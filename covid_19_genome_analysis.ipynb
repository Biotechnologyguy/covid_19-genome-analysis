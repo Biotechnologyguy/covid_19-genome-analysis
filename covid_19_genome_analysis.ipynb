{
  "nbformat": 4,
  "nbformat_minor": 0,
  "metadata": {
    "colab": {
      "provenance": [],
      "authorship_tag": "ABX9TyN0hX2OHX9O0eJqywm97sEU",
      "include_colab_link": true
    },
    "kernelspec": {
      "name": "python3",
      "display_name": "Python 3"
    },
    "language_info": {
      "name": "python"
    }
  },
  "cells": [
    {
      "cell_type": "markdown",
      "source": [
        "# Covid-19 Genome analysis using Biopython\n",
        "\n",
        "### Fetch COVID-19 Genome from NCBI\n",
        "**MN908947** - covid-19 genome used here was sequenced from a sample of bronchoalveolar lavage fluid from a single patient who was a worker at the market and who was admitted to the Central Hospital of Wuhan on 26 December 2019"
      ],
      "metadata": {
        "id": "M-YZOFXSggqm"
      }
    },
    {
      "cell_type": "markdown",
      "source": [
        "Download Biopython"
      ],
      "metadata": {
        "id": "l3mBKye9m_kq"
      }
    },
    {
      "cell_type": "code",
      "source": [
        "!pip install biopython"
      ],
      "metadata": {
        "colab": {
          "base_uri": "https://localhost:8080/",
          "height": 0
        },
        "id": "5GkVArmFm-Km",
        "outputId": "7d28e520-9861-4593-9271-1dbb22a96b02"
      },
      "execution_count": 2,
      "outputs": [
        {
          "output_type": "stream",
          "name": "stdout",
          "text": [
            "Collecting biopython\n",
            "  Downloading biopython-1.83-cp310-cp310-manylinux_2_17_x86_64.manylinux2014_x86_64.whl (3.1 MB)\n",
            "\u001b[2K     \u001b[90m━━━━━━━━━━━━━━━━━━━━━━━━━━━━━━━━━━━━━━━━\u001b[0m \u001b[32m3.1/3.1 MB\u001b[0m \u001b[31m13.3 MB/s\u001b[0m eta \u001b[36m0:00:00\u001b[0m\n",
            "\u001b[?25hRequirement already satisfied: numpy in /usr/local/lib/python3.10/dist-packages (from biopython) (1.23.5)\n",
            "Installing collected packages: biopython\n",
            "Successfully installed biopython-1.83\n"
          ]
        }
      ]
    },
    {
      "cell_type": "code",
      "execution_count": 3,
      "metadata": {
        "id": "0JIYATY9gaaN"
      },
      "outputs": [],
      "source": [
        "from Bio import Entrez, SeqIO\n",
        "Entrez.email = \"\"\n",
        "handle = Entrez.efetch(db=\"nucleotide\", id=\"MN908947\", rettype=\"gb\", retmode=\"text\")\n",
        "recs = list(SeqIO.parse(handle, 'gb'))\n",
        "handle.close()"
      ]
    },
    {
      "cell_type": "code",
      "source": [
        "recs"
      ],
      "metadata": {
        "colab": {
          "base_uri": "https://localhost:8080/",
          "height": 0
        },
        "id": "m1voBQ_NnM-o",
        "outputId": "8c28e793-e302-45c1-c41e-104768e3600a"
      },
      "execution_count": 4,
      "outputs": [
        {
          "output_type": "execute_result",
          "data": {
            "text/plain": [
              "[SeqRecord(seq=Seq('ATTAAAGGTTTATACCTTCCCAGGTAACAAACCAACCAACTTTCGATCTCTTGT...AAA'), id='MN908947.3', name='MN908947', description='Severe acute respiratory syndrome coronavirus 2 isolate Wuhan-Hu-1, complete genome', dbxrefs=[])]"
            ]
          },
          "metadata": {},
          "execution_count": 4
        }
      ]
    },
    {
      "cell_type": "code",
      "source": [
        "covid_dna = recs[0].seq"
      ],
      "metadata": {
        "id": "_owC0dVBnUqk"
      },
      "execution_count": 5,
      "outputs": []
    },
    {
      "cell_type": "code",
      "source": [
        "covid_dna"
      ],
      "metadata": {
        "colab": {
          "base_uri": "https://localhost:8080/",
          "height": 0
        },
        "id": "1g3hOk99naV1",
        "outputId": "27b53c6e-23ec-4270-c430-3a1c7dbd4d22"
      },
      "execution_count": 6,
      "outputs": [
        {
          "output_type": "execute_result",
          "data": {
            "text/plain": [
              "Seq('ATTAAAGGTTTATACCTTCCCAGGTAACAAACCAACCAACTTTCGATCTCTTGT...AAA')"
            ]
          },
          "metadata": {},
          "execution_count": 6
        }
      ]
    },
    {
      "cell_type": "code",
      "source": [
        "print(f\"Covid DNA consists of {len(covid_dna)} nucleotides\")"
      ],
      "metadata": {
        "colab": {
          "base_uri": "https://localhost:8080/",
          "height": 0
        },
        "id": "QEgoxJlondF7",
        "outputId": "dd1abff6-5ee0-4f28-cf64-89858fdf4737"
      },
      "execution_count": 8,
      "outputs": [
        {
          "output_type": "stream",
          "name": "stdout",
          "text": [
            "Covid DNA consists of 29903 nucleotides\n"
          ]
        }
      ]
    },
    {
      "cell_type": "markdown",
      "source": [
        "Let's Calculate Molecular weight"
      ],
      "metadata": {
        "id": "9jVQ7qL8nvRe"
      }
    },
    {
      "cell_type": "code",
      "source": [
        "from Bio.SeqUtils import molecular_weight\n",
        "molecular_weight(covid_dna)"
      ],
      "metadata": {
        "colab": {
          "base_uri": "https://localhost:8080/",
          "height": 0
        },
        "id": "b_ZqjNyJnzDD",
        "outputId": "612b6a51-7454-4e75-814e-6294cd7eb018"
      },
      "execution_count": 9,
      "outputs": [
        {
          "output_type": "execute_result",
          "data": {
            "text/plain": [
              "9241219.214400413"
            ]
          },
          "metadata": {},
          "execution_count": 9
        }
      ]
    },
    {
      "cell_type": "markdown",
      "source": [
        "#### GC Content\n",
        "Higher GC content implies more stable molecules due to G and C forming triple hydrogen bonds."
      ],
      "metadata": {
        "id": "vQ1vl3mToDqK"
      }
    },
    {
      "cell_type": "code",
      "source": [
        "from Bio.SeqUtils import gc_fraction\n",
        "gc_fraction(covid_dna, \"ignore\")"
      ],
      "metadata": {
        "colab": {
          "base_uri": "https://localhost:8080/",
          "height": 0
        },
        "id": "-pYL3YU7oARK",
        "outputId": "55dd31f9-aac8-411d-e7d1-8af0ba49ec71"
      },
      "execution_count": 13,
      "outputs": [
        {
          "output_type": "execute_result",
          "data": {
            "text/plain": [
              "0.3797277865097147"
            ]
          },
          "metadata": {},
          "execution_count": 13
        }
      ]
    },
    {
      "cell_type": "markdown",
      "source": [
        "#### Distribution of nucleotides in COVID-19 genome"
      ],
      "metadata": {
        "id": "nWnNX0mfqV08"
      }
    },
    {
      "cell_type": "code",
      "source": [
        "nucleotides_count = {\n",
        "    'A' : covid_dna.count(\"A\"),\n",
        "    'T' : covid_dna.count(\"T\"),\n",
        "    'G' : covid_dna.count(\"G\"),\n",
        "    'C' : covid_dna.count(\"C\")\n",
        "}"
      ],
      "metadata": {
        "id": "0ayRWMcdqfJi"
      },
      "execution_count": 14,
      "outputs": []
    },
    {
      "cell_type": "code",
      "source": [
        "nucleotides_count"
      ],
      "metadata": {
        "colab": {
          "base_uri": "https://localhost:8080/",
          "height": 0
        },
        "id": "xQiKIqmkq8U2",
        "outputId": "d593f4fc-1c20-48b3-b3f9-5e2bc0d68680"
      },
      "execution_count": 15,
      "outputs": [
        {
          "output_type": "execute_result",
          "data": {
            "text/plain": [
              "{'A': 8954, 'T': 9594, 'G': 5863, 'C': 5492}"
            ]
          },
          "metadata": {},
          "execution_count": 15
        }
      ]
    },
    {
      "cell_type": "markdown",
      "source": [
        "#### Nucleotide feequency :"
      ],
      "metadata": {
        "id": "RqfUqaoWrlHr"
      }
    },
    {
      "cell_type": "code",
      "source": [
        "import matplotlib.pyplot as plt\n",
        "width = 0.5\n",
        "plt.bar(nucleotides_count.keys(), nucleotides_count.values(), width, color=[\"b\", \"m\", \"r\", \"c\"])\n",
        "plt.xlabel(\"Nucleotide\")\n",
        "plt.ylabel(\"Frequency\")\n",
        "plt.title(\"Nucleotide Frequency\")"
      ],
      "metadata": {
        "colab": {
          "base_uri": "https://localhost:8080/",
          "height": 489
        },
        "id": "2sCFkuR6rg4U",
        "outputId": "67f47da9-bfdf-484e-c3ea-9ef9966d6c76"
      },
      "execution_count": 19,
      "outputs": [
        {
          "output_type": "execute_result",
          "data": {
            "text/plain": [
              "Text(0.5, 1.0, 'Nucleotide Frequency')"
            ]
          },
          "metadata": {},
          "execution_count": 19
        },
        {
          "output_type": "display_data",
          "data": {
            "text/plain": [
              "<Figure size 640x480 with 1 Axes>"
            ],
            "image/png": "[encoded data removed]"
          },
          "metadata": {}
        }
      ]
    },
    {
      "cell_type": "markdown",
      "source": [
        "\n",
        "The initial analysis indicates that the nucleotides adenine (A) and thymine (T) occur more frequently than cytosine (C) and guanine (G) within the sequence.\n",
        "\n",
        "Comprehending this genetic code is essential for the development of treatments and vaccines. The critical task at hand is deciphering the substantial data encoded within these extensive sequences of nucleotides.\n",
        "\n",
        "This decoding is accomplished through a process known as gene expression. Gene expression is the method through which the instructions in a gene guide the production of a functional product, typically proteins, which perform a multitude of functions in the organism."
      ],
      "metadata": {
        "id": "XvdBMXJcsY_6"
      }
    },
    {
      "cell_type": "markdown",
      "source": [
        "#### Transcription\n",
        "Transcription is the initial phase of gene expression. This process entails transcribing the sequence of DNA from a gene to synthesize a corresponding RNA strand."
      ],
      "metadata": {
        "id": "w9wMA8NcsqXv"
      }
    },
    {
      "cell_type": "code",
      "source": [
        "covid_mrna = covid_dna.transcribe()\n",
        "covid_mrna"
      ],
      "metadata": {
        "colab": {
          "base_uri": "https://localhost:8080/",
          "height": 0
        },
        "id": "T5s2ESdutAyz",
        "outputId": "b5835ba1-df12-4373-b844-e1c972b9f6e5"
      },
      "execution_count": 20,
      "outputs": [
        {
          "output_type": "execute_result",
          "data": {
            "text/plain": [
              "Seq('AUUAAAGGUUUAUACCUUCCCAGGUAACAAACCAACCAACUUUCGAUCUCUUGU...AAA')"
            ]
          },
          "metadata": {},
          "execution_count": 20
        }
      ]
    },
    {
      "cell_type": "markdown",
      "source": [
        "#### Translation :\n",
        "Translation is the biological mechanism by which the genetic code carried by messenger RNA (mRNA) is translated into a sequence of amino acids, forming the building blocks of proteins."
      ],
      "metadata": {
        "id": "2ETE8Gd6tTvf"
      }
    },
    {
      "cell_type": "code",
      "source": [
        "covid_amino_acids = covid_mrna.translate()\n",
        "covid_amino_acids"
      ],
      "metadata": {
        "colab": {
          "base_uri": "https://localhost:8080/",
          "height": 0
        },
        "id": "kMtP33t2tR-o",
        "outputId": "8f12dc2c-efed-4f2e-f91c-6bd94274902c"
      },
      "execution_count": 21,
      "outputs": [
        {
          "output_type": "stream",
          "name": "stderr",
          "text": [
            "/usr/local/lib/python3.10/dist-packages/Bio/Seq.py:2880: BiopythonWarning: Partial codon, len(sequence) not a multiple of three. Explicitly trim the sequence or add trailing N before translation. This may become an error in future.\n",
            "  warnings.warn(\n"
          ]
        },
        {
          "output_type": "execute_result",
          "data": {
            "text/plain": [
              "Seq('IKGLYLPR*QTNQLSISCRSVL*TNFKICVAVTRLHA*CTHAV*LITNYCR*QD...KKK')"
            ]
          },
          "metadata": {},
          "execution_count": 21
        }
      ]
    },
    {
      "cell_type": "markdown",
      "source": [
        "##### Most common amino acids"
      ],
      "metadata": {
        "id": "I72KGo97tp92"
      }
    },
    {
      "cell_type": "code",
      "source": [
        "from collections import Counter\n",
        "common_amino = Counter(covid_amino_acids)\n",
        "common_amino.most_common(10)"
      ],
      "metadata": {
        "colab": {
          "base_uri": "https://localhost:8080/",
          "height": 0
        },
        "id": "edqUYuKTtwC2",
        "outputId": "a9f6bbd4-e714-49bb-87e0-326d14aa8d14"
      },
      "execution_count": 23,
      "outputs": [
        {
          "output_type": "execute_result",
          "data": {
            "text/plain": [
              "[('L', 886),\n",
              " ('S', 810),\n",
              " ('*', 774),\n",
              " ('T', 679),\n",
              " ('C', 635),\n",
              " ('F', 593),\n",
              " ('R', 558),\n",
              " ('V', 548),\n",
              " ('Y', 505),\n",
              " ('N', 472)]"
            ]
          },
          "metadata": {},
          "execution_count": 23
        }
      ]
    },
    {
      "cell_type": "code",
      "source": [
        "del common_amino[\"*\"]"
      ],
      "metadata": {
        "id": "yYqa8tuKuMX0"
      },
      "execution_count": 25,
      "outputs": []
    },
    {
      "cell_type": "code",
      "source": [
        "width = 0.5\n",
        "plt.bar(common_amino.keys(), common_amino.values(), width, color=['b', 'r', 'm', 'c'])\n",
        "plt.xlabel(\"Amono Acid\")\n",
        "plt.ylabel(\"Frequency\")\n",
        "plt.title(\"Protein Sequence Frequency\")"
      ],
      "metadata": {
        "colab": {
          "base_uri": "https://localhost:8080/",
          "height": 489
        },
        "id": "RIJY0BtcuUNg",
        "outputId": "2dd267ac-197a-4eff-97c3-cefd00b04ef2"
      },
      "execution_count": 28,
      "outputs": [
        {
          "output_type": "execute_result",
          "data": {
            "text/plain": [
              "Text(0.5, 1.0, 'Protein Sequence Frequency')"
            ]
          },
          "metadata": {},
          "execution_count": 28
        },
        {
          "output_type": "display_data",
          "data": {
            "text/plain": [
              "<Figure size 640x480 with 1 Axes>"
            ],
            "image/png": "[encoded data removed]"
          },
          "metadata": {}
        }
      ]
    },
    {
      "cell_type": "code",
      "source": [
        "print(f\"Covid-19's genome has {sum(common_amino.values())} amino acids\")"
      ],
      "metadata": {
        "colab": {
          "base_uri": "https://localhost:8080/",
          "height": 0
        },
        "id": "ji5MQhFtu9-Z",
        "outputId": "e1589448-16e5-49d7-def1-dfc240ec9560"
      },
      "execution_count": 29,
      "outputs": [
        {
          "output_type": "stream",
          "name": "stdout",
          "text": [
            "Covid-19's genome has 9193 amino acids\n"
          ]
        }
      ]
    },
    {
      "cell_type": "markdown",
      "source": [
        "The split() function splits the sequence at any stop codon and keeps the amino acids chains separated. This makes it easier for further analysis."
      ],
      "metadata": {
        "id": "WcRixsCxvMvO"
      }
    },
    {
      "cell_type": "code",
      "source": [
        "proteins = covid_amino_acids.split('*')"
      ],
      "metadata": {
        "id": "-VrFdVn5vNeV"
      },
      "execution_count": 32,
      "outputs": []
    },
    {
      "cell_type": "code",
      "source": [
        "print(f\"We have {len(proteins)} amino acid sequences in covid\")"
      ],
      "metadata": {
        "colab": {
          "base_uri": "https://localhost:8080/",
          "height": 0
        },
        "id": "HpIbb31_vqLs",
        "outputId": "f8c0a0d2-f2b8-4685-eb89-5ca5cc9b83d5"
      },
      "execution_count": 35,
      "outputs": [
        {
          "output_type": "stream",
          "name": "stdout",
          "text": [
            "We have 775 amino acid sequences in covid\n"
          ]
        }
      ]
    },
    {
      "cell_type": "markdown",
      "source": [
        "It should be noted that not all sequences of amino acids qualify as proteins. Functional proteins are encoded by sequences consisting of over 20 amino acids. Shorter amino acid sequences, known as oligopeptides, serve different roles. In our discussion, we will concentrate on the longer chains composed of more than 20 amino acids, which are categorized as proteins."
      ],
      "metadata": {
        "id": "A9iGvZLrwXAp"
      }
    },
    {
      "cell_type": "code",
      "source": [
        "# Lets remove all the proteins which are having less than 20 amono acids\n",
        "for protein in proteins:\n",
        "  if len(protein) < 20:\n",
        "    proteins.remove(protein)\n",
        "\n"
      ],
      "metadata": {
        "id": "S2-tKQnzwxJg"
      },
      "execution_count": 36,
      "outputs": []
    },
    {
      "cell_type": "code",
      "source": [
        "print(f\"We have {len(proteins)} proteins with more than 20 amono acids in the covid-19 genome\")"
      ],
      "metadata": {
        "colab": {
          "base_uri": "https://localhost:8080/",
          "height": 0
        },
        "id": "Vg39xCjaxGpD",
        "outputId": "007ed148-8887-4219-986b-03949b8b578e"
      },
      "execution_count": 37,
      "outputs": [
        {
          "output_type": "stream",
          "name": "stdout",
          "text": [
            "We have 409 proteins with more than 20 amono acids in the covid-19 genome\n"
          ]
        }
      ]
    },
    {
      "cell_type": "code",
      "source": [
        "top_5_proteins = sorted(proteins, key=len)"
      ],
      "metadata": {
        "id": "8QWhcy0xxcWJ"
      },
      "execution_count": 38,
      "outputs": []
    },
    {
      "cell_type": "code",
      "source": [
        "len(top_5_proteins)"
      ],
      "metadata": {
        "colab": {
          "base_uri": "https://localhost:8080/",
          "height": 0
        },
        "id": "SpzohhGpxosG",
        "outputId": "69d55048-8f64-4c48-a952-36b0e52b8b4f"
      },
      "execution_count": 40,
      "outputs": [
        {
          "output_type": "execute_result",
          "data": {
            "text/plain": [
              "409"
            ]
          },
          "metadata": {},
          "execution_count": 40
        }
      ]
    },
    {
      "cell_type": "code",
      "source": [
        "top_5_proteins[-1]"
      ],
      "metadata": {
        "colab": {
          "base_uri": "https://localhost:8080/",
          "height": 0
        },
        "id": "AgcRJ0yQxkAA",
        "outputId": "54ff7db8-7c2c-429a-bf06-9d4aa4c7d43c"
      },
      "execution_count": 39,
      "outputs": [
        {
          "output_type": "execute_result",
          "data": {
            "text/plain": [
              "Seq('CTIVFKRVCGVSAARLTPCGTGTSTDVVYRAFDIYNDKVAGFAKFLKTNCCRFQ...VNN')"
            ]
          },
          "metadata": {},
          "execution_count": 39
        }
      ]
    },
    {
      "cell_type": "code",
      "source": [
        "len(top_5_proteins[-1])"
      ],
      "metadata": {
        "colab": {
          "base_uri": "https://localhost:8080/",
          "height": 0
        },
        "id": "rHT9B-3vxu8g",
        "outputId": "e6cdb1ae-9a53-4d23-c861-d8f691385a14"
      },
      "execution_count": 41,
      "outputs": [
        {
          "output_type": "execute_result",
          "data": {
            "text/plain": [
              "2701"
            ]
          },
          "metadata": {},
          "execution_count": 41
        }
      ]
    },
    {
      "cell_type": "markdown",
      "source": [
        "Saving this protein to file for further analysis"
      ],
      "metadata": {
        "id": "zaLi7HY_x2of"
      }
    },
    {
      "cell_type": "code",
      "source": [
        "with open(\"protein_seq.fasta\", \"w\") as file:\n",
        "    file.write(f\">covid protein\\n{top_5_proteins[-1]}\")"
      ],
      "metadata": {
        "id": "tzyac7Qrx4rU"
      },
      "execution_count": 42,
      "outputs": []
    },
    {
      "cell_type": "markdown",
      "source": [
        "### Findings Overview:\n",
        "\n",
        "- Total base pairs: 29,903\n",
        "- GC content: 37.97%\n",
        "- Predominant amino acids: Leucine (L) and Serine (S)\n",
        "- Proteins exceeding 20 amino acids: 409\n",
        "- Longest protein contains: 2,701 amino acids"
      ],
      "metadata": {
        "id": "zorOLCvYyEjf"
      }
    }
  ]
}
