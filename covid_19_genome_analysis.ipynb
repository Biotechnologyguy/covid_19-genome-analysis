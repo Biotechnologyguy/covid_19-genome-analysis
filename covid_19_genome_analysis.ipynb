{
  "nbformat": 4,
  "nbformat_minor": 0,
  "metadata": {
    "colab": {
      "provenance": []
    },
    "kernelspec": {
      "name": "python3",
      "display_name": "Python 3"
    },
    "language_info": {
      "name": "python"
    }
  },
  "cells": [
    {
      "cell_type": "markdown",
      "source": [
        "# Covid-19 Genome analysis using Biopython\n",
        "\n",
        "### Fetch COVID-19 Genome from NCBI\n",
        "**MN908947** - covid-19 genome used here was sequenced from a sample of bronchoalveolar lavage fluid from a single patient who was a worker at the market and who was admitted to the Central Hospital of Wuhan on 26 December 2019"
      ],
      "metadata": {
        "id": "M-YZOFXSggqm"
      }
    },
    {
      "cell_type": "code",
      "execution_count": null,
      "metadata": {
        "id": "0JIYATY9gaaN"
      },
      "outputs": [],
      "source": []
    }
  ]
}